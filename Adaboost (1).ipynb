{
 "cells": [
  {
   "cell_type": "code",
   "execution_count": 129,
   "metadata": {},
   "outputs": [],
   "source": [
    "import numpy as np\n",
    "import pandas as pd\n",
    "import matplotlib.pyplot as plt\n",
    "from sklearn.tree import DecisionTreeClassifier\n",
    "# from rf_classification import get_data\n",
    "from sklearn.preprocessing import LabelEncoder, OneHotEncoder\n",
    "from mlxtend.classifier import StackingClassifier\n",
    "from sklearn.ensemble import ExtraTreesClassifier\n",
    "from sklearn.model_selection import train_test_split\n",
    "from sklearn.model_selection import cross_val_score\n",
    "import nltk, re, pprint\n",
    "\n",
    "from nltk import word_tokenize\n",
    "from sklearn.feature_extraction.text import CountVectorizer, TfidfVectorizer"
   ]
  },
  {
   "cell_type": "code",
   "execution_count": 130,
   "metadata": {
    "scrolled": true
   },
   "outputs": [],
   "source": [
    "data = pd.read_csv('outputt.csv')"
   ]
  },
  {
   "cell_type": "code",
   "execution_count": 131,
   "metadata": {},
   "outputs": [
    {
     "data": {
      "text/html": [
       "<div>\n",
       "<style scoped>\n",
       "    .dataframe tbody tr th:only-of-type {\n",
       "        vertical-align: middle;\n",
       "    }\n",
       "\n",
       "    .dataframe tbody tr th {\n",
       "        vertical-align: top;\n",
       "    }\n",
       "\n",
       "    .dataframe thead th {\n",
       "        text-align: right;\n",
       "    }\n",
       "</style>\n",
       "<table border=\"1\" class=\"dataframe\">\n",
       "  <thead>\n",
       "    <tr style=\"text-align: right;\">\n",
       "      <th></th>\n",
       "      <th>Unnamed: 0</th>\n",
       "      <th>description</th>\n",
       "      <th>remarks</th>\n",
       "      <th>desc_remarks</th>\n",
       "      <th>Transaction_Type</th>\n",
       "      <th>bank_name</th>\n",
       "      <th>label</th>\n",
       "      <th>Sub_Category</th>\n",
       "      <th>Category</th>\n",
       "      <th>mode_of_payment</th>\n",
       "    </tr>\n",
       "  </thead>\n",
       "  <tbody>\n",
       "    <tr>\n",
       "      <td>2402</td>\n",
       "      <td>2813.0</td>\n",
       "      <td>NaN</td>\n",
       "      <td>Via USSD GTBank Transfer     49204402650000005...</td>\n",
       "      <td>sms alert charge for 24july2020-25aug2020</td>\n",
       "      <td>debit</td>\n",
       "      <td>1.0</td>\n",
       "      <td>Bank Transfer Charges</td>\n",
       "      <td>Charges</td>\n",
       "      <td>Commissions</td>\n",
       "      <td>Others</td>\n",
       "    </tr>\n",
       "    <tr>\n",
       "      <td>2403</td>\n",
       "      <td>NaN</td>\n",
       "      <td>NaN</td>\n",
       "      <td>NaN</td>\n",
       "      <td>hhk,bvbvcbnmm,mkjkkjjkhnlkggjk,,nkhhfffjjgvree...</td>\n",
       "      <td>debit</td>\n",
       "      <td>1.0</td>\n",
       "      <td>Invalid Input</td>\n",
       "      <td>Invalid Input</td>\n",
       "      <td>Invalid Input</td>\n",
       "      <td>Invalid Input</td>\n",
       "    </tr>\n",
       "    <tr>\n",
       "      <td>2404</td>\n",
       "      <td>NaN</td>\n",
       "      <td>NaN</td>\n",
       "      <td>NaN</td>\n",
       "      <td>cxxxcnmooofddasujjpopjnk456787hkjdxsxjkl99ynn,,.</td>\n",
       "      <td>credit</td>\n",
       "      <td>1.0</td>\n",
       "      <td>Invalid Input</td>\n",
       "      <td>Invalid Input</td>\n",
       "      <td>Invalid Input</td>\n",
       "      <td>Invalid Input</td>\n",
       "    </tr>\n",
       "    <tr>\n",
       "      <td>2405</td>\n",
       "      <td>NaN</td>\n",
       "      <td>NaN</td>\n",
       "      <td>NaN</td>\n",
       "      <td>zawqsxgbmnklool,mnjjfty99777nbmnmmmmmv90900</td>\n",
       "      <td>credit</td>\n",
       "      <td>1.0</td>\n",
       "      <td>Invalid Input</td>\n",
       "      <td>Invalid Input</td>\n",
       "      <td>Invalid Input</td>\n",
       "      <td>Invalid Input</td>\n",
       "    </tr>\n",
       "    <tr>\n",
       "      <td>2406</td>\n",
       "      <td>NaN</td>\n",
       "      <td>NaN</td>\n",
       "      <td>NaN</td>\n",
       "      <td>ccggfgjkjjyrff9864wedtycvnl@@@z44l?8889bvhggfj...</td>\n",
       "      <td>debit</td>\n",
       "      <td>1.0</td>\n",
       "      <td>Invalid Input</td>\n",
       "      <td>Invalid Input</td>\n",
       "      <td>Invalid Input</td>\n",
       "      <td>Invalid Input</td>\n",
       "    </tr>\n",
       "  </tbody>\n",
       "</table>\n",
       "</div>"
      ],
      "text/plain": [
       "      Unnamed: 0 description  \\\n",
       "2402      2813.0         NaN   \n",
       "2403         NaN         NaN   \n",
       "2404         NaN         NaN   \n",
       "2405         NaN         NaN   \n",
       "2406         NaN         NaN   \n",
       "\n",
       "                                                remarks  \\\n",
       "2402  Via USSD GTBank Transfer     49204402650000005...   \n",
       "2403                                                NaN   \n",
       "2404                                                NaN   \n",
       "2405                                                NaN   \n",
       "2406                                                NaN   \n",
       "\n",
       "                                           desc_remarks Transaction_Type  \\\n",
       "2402          sms alert charge for 24july2020-25aug2020            debit   \n",
       "2403  hhk,bvbvcbnmm,mkjkkjjkhnlkggjk,,nkhhfffjjgvree...            debit   \n",
       "2404   cxxxcnmooofddasujjpopjnk456787hkjdxsxjkl99ynn,,.           credit   \n",
       "2405        zawqsxgbmnklool,mnjjfty99777nbmnmmmmmv90900           credit   \n",
       "2406  ccggfgjkjjyrff9864wedtycvnl@@@z44l?8889bvhggfj...            debit   \n",
       "\n",
       "      bank_name                  label   Sub_Category       Category  \\\n",
       "2402        1.0  Bank Transfer Charges        Charges    Commissions   \n",
       "2403        1.0          Invalid Input  Invalid Input  Invalid Input   \n",
       "2404        1.0          Invalid Input  Invalid Input  Invalid Input   \n",
       "2405        1.0          Invalid Input  Invalid Input  Invalid Input   \n",
       "2406        1.0          Invalid Input  Invalid Input  Invalid Input   \n",
       "\n",
       "     mode_of_payment  \n",
       "2402          Others  \n",
       "2403   Invalid Input  \n",
       "2404   Invalid Input  \n",
       "2405   Invalid Input  \n",
       "2406   Invalid Input  "
      ]
     },
     "execution_count": 131,
     "metadata": {},
     "output_type": "execute_result"
    }
   ],
   "source": [
    "data.tail()"
   ]
  },
  {
   "cell_type": "code",
   "execution_count": 4,
   "metadata": {
    "scrolled": false
   },
   "outputs": [
    {
     "data": {
      "text/html": [
       "<div>\n",
       "<style scoped>\n",
       "    .dataframe tbody tr th:only-of-type {\n",
       "        vertical-align: middle;\n",
       "    }\n",
       "\n",
       "    .dataframe tbody tr th {\n",
       "        vertical-align: top;\n",
       "    }\n",
       "\n",
       "    .dataframe thead th {\n",
       "        text-align: right;\n",
       "    }\n",
       "</style>\n",
       "<table border=\"1\" class=\"dataframe\">\n",
       "  <thead>\n",
       "    <tr style=\"text-align: right;\">\n",
       "      <th></th>\n",
       "      <th>desc_remarks</th>\n",
       "      <th>Transaction_Type</th>\n",
       "      <th>Category</th>\n",
       "    </tr>\n",
       "  </thead>\n",
       "  <tbody>\n",
       "    <tr>\n",
       "      <td>0</td>\n",
       "      <td>cash wdl from our atm -001570- -079023-gtbank ...</td>\n",
       "      <td>debit</td>\n",
       "      <td>Withdrawal</td>\n",
       "    </tr>\n",
       "    <tr>\n",
       "      <td>1</td>\n",
       "      <td>transfer between customers 1100062001091640530...</td>\n",
       "      <td>credit</td>\n",
       "      <td>Salaries &amp; Wages</td>\n",
       "    </tr>\n",
       "    <tr>\n",
       "      <td>2</td>\n",
       "      <td>nibss instant payment outward 0000132001091756...</td>\n",
       "      <td>debit</td>\n",
       "      <td>Bill Payments</td>\n",
       "    </tr>\n",
       "    <tr>\n",
       "      <td>3</td>\n",
       "      <td>transfer between customers ussd gtbank transfe...</td>\n",
       "      <td>debit</td>\n",
       "      <td>Transfers</td>\n",
       "    </tr>\n",
       "    <tr>\n",
       "      <td>4</td>\n",
       "      <td>transfer between customers via gtworld from ik...</td>\n",
       "      <td>credit</td>\n",
       "      <td>Transfer Payments</td>\n",
       "    </tr>\n",
       "    <tr>\n",
       "      <td>...</td>\n",
       "      <td>...</td>\n",
       "      <td>...</td>\n",
       "      <td>...</td>\n",
       "    </tr>\n",
       "    <tr>\n",
       "      <td>2402</td>\n",
       "      <td>sms alert charge for 24july2020-25aug2020</td>\n",
       "      <td>debit</td>\n",
       "      <td>Commissions</td>\n",
       "    </tr>\n",
       "    <tr>\n",
       "      <td>2403</td>\n",
       "      <td>hhk,bvbvcbnmm,mkjkkjjkhnlkggjk,,nkhhfffjjgvree...</td>\n",
       "      <td>debit</td>\n",
       "      <td>Invalid Input</td>\n",
       "    </tr>\n",
       "    <tr>\n",
       "      <td>2404</td>\n",
       "      <td>cxxxcnmooofddasujjpopjnk456787hkjdxsxjkl99ynn,,.</td>\n",
       "      <td>credit</td>\n",
       "      <td>Invalid Input</td>\n",
       "    </tr>\n",
       "    <tr>\n",
       "      <td>2405</td>\n",
       "      <td>zawqsxgbmnklool,mnjjfty99777nbmnmmmmmv90900</td>\n",
       "      <td>credit</td>\n",
       "      <td>Invalid Input</td>\n",
       "    </tr>\n",
       "    <tr>\n",
       "      <td>2406</td>\n",
       "      <td>ccggfgjkjjyrff9864wedtycvnl@@@z44l?8889bvhggfj...</td>\n",
       "      <td>debit</td>\n",
       "      <td>Invalid Input</td>\n",
       "    </tr>\n",
       "  </tbody>\n",
       "</table>\n",
       "<p>2407 rows × 3 columns</p>\n",
       "</div>"
      ],
      "text/plain": [
       "                                           desc_remarks Transaction_Type  \\\n",
       "0     cash wdl from our atm -001570- -079023-gtbank ...            debit   \n",
       "1     transfer between customers 1100062001091640530...           credit   \n",
       "2     nibss instant payment outward 0000132001091756...            debit   \n",
       "3     transfer between customers ussd gtbank transfe...            debit   \n",
       "4     transfer between customers via gtworld from ik...           credit   \n",
       "...                                                 ...              ...   \n",
       "2402          sms alert charge for 24july2020-25aug2020            debit   \n",
       "2403  hhk,bvbvcbnmm,mkjkkjjkhnlkggjk,,nkhhfffjjgvree...            debit   \n",
       "2404   cxxxcnmooofddasujjpopjnk456787hkjdxsxjkl99ynn,,.           credit   \n",
       "2405        zawqsxgbmnklool,mnjjfty99777nbmnmmmmmv90900           credit   \n",
       "2406  ccggfgjkjjyrff9864wedtycvnl@@@z44l?8889bvhggfj...            debit   \n",
       "\n",
       "               Category  \n",
       "0            Withdrawal  \n",
       "1      Salaries & Wages  \n",
       "2         Bill Payments  \n",
       "3             Transfers  \n",
       "4     Transfer Payments  \n",
       "...                 ...  \n",
       "2402        Commissions  \n",
       "2403      Invalid Input  \n",
       "2404      Invalid Input  \n",
       "2405      Invalid Input  \n",
       "2406      Invalid Input  \n",
       "\n",
       "[2407 rows x 3 columns]"
      ]
     },
     "execution_count": 4,
     "metadata": {},
     "output_type": "execute_result"
    }
   ],
   "source": [
    "data = data.drop(['label', 'Sub_Category', 'mode_of_payment', 'Unnamed: 0', 'description', 'remarks', 'bank_name'], axis = 1)\n",
    "data"
   ]
  },
  {
   "cell_type": "code",
   "execution_count": 191,
   "metadata": {},
   "outputs": [],
   "source": [
    "# transform the data\n",
    "def get_data(data):\n",
    "    def clean_data(text):\n",
    "        new_text = re.sub(r'[^\\w\\d\\s]', '', str(text))\n",
    "        new_text = re.sub('\\s+',' ', str(new_text))\n",
    "        return new_text.strip().lower()\n",
    "    \n",
    "    # process target\n",
    "    y = data['Category']\n",
    "    encodeTarget = LabelEncoder()\n",
    "    Y = encodeTarget.fit_transform(y)\n",
    "\n",
    "    # process x\n",
    "    x = data[[\"Transaction_Type\", \"desc_remarks\"]]\n",
    "    x[\"Transaction_Type\"] = x[\"Transaction_Type\"].apply(clean_data)\n",
    "    x[\"desc_remarks\"] = x[\"desc_remarks\"].apply(clean_data)\n",
    "\n",
    "    # work on desc_remarks\n",
    "    descRemarks = x['desc_remarks']\n",
    "    countVecDescRemarks = CountVectorizer(ngram_range=(1,1), # to use bigrams ngram_range=(2,2)\n",
    "                           stop_words='english')\n",
    "    descRemarksEncd = countVecDescRemarks.fit_transform(descRemarks)\n",
    "\n",
    "    # work on Transaction_Type\n",
    "    transactionType = data['Transaction_Type'].to_numpy().reshape(-1, 1)\n",
    "    OneHotEnctransType = OneHotEncoder()\n",
    "    OneHotEnctransType.fit(transactionType)\n",
    "    transactionTypeEncd = OneHotEnctransType.transform(transactionType)\n",
    "    return (descRemarksEncd, transactionTypeEncd, Y), (countVecDescRemarks, OneHotEnctransType, encodeTarget)\n"
   ]
  },
  {
   "cell_type": "code",
   "execution_count": null,
   "metadata": {},
   "outputs": [],
   "source": []
  },
  {
   "cell_type": "code",
   "execution_count": 192,
   "metadata": {
    "scrolled": true
   },
   "outputs": [
    {
     "name": "stderr",
     "output_type": "stream",
     "text": [
      "C:\\Users\\DELL\\Anaconda3\\new ana\\lib\\site-packages\\ipykernel_launcher.py:15: SettingWithCopyWarning: \n",
      "A value is trying to be set on a copy of a slice from a DataFrame.\n",
      "Try using .loc[row_indexer,col_indexer] = value instead\n",
      "\n",
      "See the caveats in the documentation: http://pandas.pydata.org/pandas-docs/stable/user_guide/indexing.html#returning-a-view-versus-a-copy\n",
      "  from ipykernel import kernelapp as app\n",
      "C:\\Users\\DELL\\Anaconda3\\new ana\\lib\\site-packages\\ipykernel_launcher.py:16: SettingWithCopyWarning: \n",
      "A value is trying to be set on a copy of a slice from a DataFrame.\n",
      "Try using .loc[row_indexer,col_indexer] = value instead\n",
      "\n",
      "See the caveats in the documentation: http://pandas.pydata.org/pandas-docs/stable/user_guide/indexing.html#returning-a-view-versus-a-copy\n",
      "  app.launch_new_instance()\n"
     ]
    }
   ],
   "source": [
    "(descRemarksEncd, transactionTypeEncd, Y), (countVecDescRemarks, OneHotEnctransType, encodeTarget) = get_data(data)"
   ]
  },
  {
   "cell_type": "code",
   "execution_count": 193,
   "metadata": {
    "scrolled": false
   },
   "outputs": [
    {
     "data": {
      "text/plain": [
       "array([[0., 1., 0.],\n",
       "       [1., 0., 0.],\n",
       "       [0., 1., 0.],\n",
       "       ...,\n",
       "       [1., 0., 0.],\n",
       "       [1., 0., 0.],\n",
       "       [0., 1., 0.]])"
      ]
     },
     "execution_count": 193,
     "metadata": {},
     "output_type": "execute_result"
    }
   ],
   "source": [
    "transactionTypeEncdArr = transactionTypeEncd.toarray()\n",
    "transactionTypeEncdArr"
   ]
  },
  {
   "cell_type": "code",
   "execution_count": 194,
   "metadata": {},
   "outputs": [
    {
     "data": {
      "text/plain": [
       "array([[0, 0, 0, ..., 0, 0, 0],\n",
       "       [0, 0, 0, ..., 0, 0, 0],\n",
       "       [0, 0, 0, ..., 0, 0, 0],\n",
       "       ...,\n",
       "       [0, 0, 0, ..., 0, 0, 0],\n",
       "       [0, 0, 0, ..., 0, 0, 0],\n",
       "       [0, 0, 0, ..., 0, 0, 0]], dtype=int64)"
      ]
     },
     "execution_count": 194,
     "metadata": {},
     "output_type": "execute_result"
    }
   ],
   "source": [
    "descRemarksEncdArr = descRemarksEncd.toarray()\n",
    "descRemarksEncdArr"
   ]
  },
  {
   "cell_type": "code",
   "execution_count": 195,
   "metadata": {},
   "outputs": [],
   "source": [
    "X = np.hstack((descRemarksEncdArr, transactionTypeEncdArr))"
   ]
  },
  {
   "cell_type": "code",
   "execution_count": 196,
   "metadata": {},
   "outputs": [
    {
     "data": {
      "text/plain": [
       "array([[0., 0., 0., ..., 0., 1., 0.],\n",
       "       [0., 0., 0., ..., 1., 0., 0.],\n",
       "       [0., 0., 0., ..., 0., 1., 0.],\n",
       "       ...,\n",
       "       [0., 0., 0., ..., 1., 0., 0.],\n",
       "       [0., 0., 0., ..., 1., 0., 0.],\n",
       "       [0., 0., 0., ..., 0., 1., 0.]])"
      ]
     },
     "execution_count": 196,
     "metadata": {},
     "output_type": "execute_result"
    }
   ],
   "source": [
    "X\n"
   ]
  },
  {
   "cell_type": "code",
   "execution_count": 197,
   "metadata": {},
   "outputs": [],
   "source": [
    "#X = np.concatenate([descRemarksEncd.toarray(), transactionTypeEncd.toarray()], axis=1)"
   ]
  },
  {
   "cell_type": "code",
   "execution_count": 198,
   "metadata": {},
   "outputs": [
    {
     "name": "stderr",
     "output_type": "stream",
     "text": [
      "C:\\Users\\DELL\\Anaconda3\\new ana\\lib\\site-packages\\sklearn\\model_selection\\_split.py:668: UserWarning: The least populated class in y has only 3 members, which is less than n_splits=8.\n",
      "  % (min_groups, self.n_splits)), UserWarning)\n"
     ]
    },
    {
     "name": "stdout",
     "output_type": "stream",
     "text": [
      "CV baseline: 0.9351937984496124\n"
     ]
    },
    {
     "name": "stderr",
     "output_type": "stream",
     "text": [
      "C:\\Users\\DELL\\Anaconda3\\new ana\\lib\\site-packages\\sklearn\\model_selection\\_split.py:668: UserWarning: The least populated class in y has only 3 members, which is less than n_splits=8.\n",
      "  % (min_groups, self.n_splits)), UserWarning)\n"
     ]
    },
    {
     "name": "stdout",
     "output_type": "stream",
     "text": [
      "CV one tree: 0.9480689368770764\n"
     ]
    },
    {
     "name": "stderr",
     "output_type": "stream",
     "text": [
      "C:\\Users\\DELL\\Anaconda3\\new ana\\lib\\site-packages\\sklearn\\model_selection\\_split.py:668: UserWarning: The least populated class in y has only 3 members, which is less than n_splits=8.\n",
      "  % (min_groups, self.n_splits)), UserWarning)\n"
     ]
    },
    {
     "name": "stdout",
     "output_type": "stream",
     "text": [
      "CV forest: 0.9497300664451827\n"
     ]
    },
    {
     "name": "stderr",
     "output_type": "stream",
     "text": [
      "C:\\Users\\DELL\\Anaconda3\\new ana\\lib\\site-packages\\sklearn\\model_selection\\_split.py:668: UserWarning: The least populated class in y has only 3 members, which is less than n_splits=8.\n",
      "  % (min_groups, self.n_splits)), UserWarning)\n"
     ]
    },
    {
     "name": "stdout",
     "output_type": "stream",
     "text": [
      "CV svc: 0.947235603543743\n"
     ]
    }
   ],
   "source": [
    " # do a quick baseline test\n",
    "#just checking for the best model\n",
    "from sklearn.metrics import classification_report,accuracy_score,confusion_matrix\n",
    "from sklearn.tree import DecisionTreeClassifier\n",
    "from sklearn.ensemble import RandomForestClassifier\n",
    "from sklearn.linear_model import LogisticRegression\n",
    "from sklearn.svm import LinearSVC\n",
    "from sklearn.model_selection import cross_val_score\n",
    "baseline = LogisticRegression()\n",
    "    # # if cv parameter is not specified, default= 3-fold cross validation,\n",
    "print(\"CV baseline:\", cross_val_score(baseline, X, Y, cv=8).mean())\n",
    "\n",
    "    # single tree\n",
    "tree = DecisionTreeClassifier()\n",
    "print(\"CV one tree:\", cross_val_score(tree, X, Y, cv=8).mean())\n",
    "\n",
    "model = RandomForestClassifier(n_estimators=200)  # try 10, 20, 50, 100, 200\n",
    "print(\"CV forest:\", cross_val_score(model, X, Y, cv=8).mean())\n",
    "\n",
    "\n",
    "svc = LinearSVC(random_state=20)\n",
    "print(\"CV svc:\", cross_val_score(svc, X, Y, cv=8).mean())\n"
   ]
  },
  {
   "cell_type": "code",
   "execution_count": 199,
   "metadata": {},
   "outputs": [],
   "source": [
    "from sklearn.datasets import make_moons\n",
    "from sklearn.metrics import accuracy_score\n",
    "from sklearn.model_selection import train_test_split\n",
    "from sklearn.tree import DecisionTreeClassifier\n",
    "from sklearn.linear_model import LogisticRegression\n",
    "from sklearn.ensemble import RandomForestClassifier,AdaBoostClassifier,GradientBoostingClassifier"
   ]
  },
  {
   "cell_type": "code",
   "execution_count": 200,
   "metadata": {},
   "outputs": [],
   "source": [
    "X_train, X_test, Y_train, Y_test = train_test_split(X,Y, test_size=0.2, random_state=42)"
   ]
  },
  {
   "cell_type": "code",
   "execution_count": 201,
   "metadata": {},
   "outputs": [
    {
     "data": {
      "text/plain": [
       "0.9481327800829875"
      ]
     },
     "execution_count": 201,
     "metadata": {},
     "output_type": "execute_result"
    }
   ],
   "source": [
    "#using the esemble method to check for the best algorithm\n",
    "clf = DecisionTreeClassifier()\n",
    "clf.fit(X_train, Y_train)\n",
    "y_pred = clf.predict(X_test)\n",
    "accuracy_score(Y_test, y_pred)"
   ]
  },
  {
   "cell_type": "code",
   "execution_count": 202,
   "metadata": {},
   "outputs": [
    {
     "data": {
      "text/plain": [
       "0.950207468879668"
      ]
     },
     "execution_count": 202,
     "metadata": {},
     "output_type": "execute_result"
    }
   ],
   "source": [
    "clf = RandomForestClassifier(n_estimators=100, max_features=\"auto\",random_state=20)\n",
    "clf.fit(X_train, Y_train)\n",
    "y_pred = clf.predict(X_test)\n",
    "accuracy_score(Y_test, y_pred)"
   ]
  },
  {
   "cell_type": "code",
   "execution_count": 203,
   "metadata": {},
   "outputs": [
    {
     "data": {
      "text/plain": [
       "0.9543568464730291"
      ]
     },
     "execution_count": 203,
     "metadata": {},
     "output_type": "execute_result"
    }
   ],
   "source": [
    "clf = ExtraTreesClassifier(n_estimators=10, max_depth=None, min_samples_split=2, random_state=20)\n",
    "clf.fit(X_train, Y_train)\n",
    "#scores = cross_val_score(clf, X_train, Y_train, cv=2)\n",
    "y_pred = clf.predict(X_test)\n",
    "accuracy_score(Y_test, y_pred)"
   ]
  },
  {
   "cell_type": "code",
   "execution_count": 204,
   "metadata": {},
   "outputs": [
    {
     "data": {
      "text/plain": [
       "0.9543568464730291"
      ]
     },
     "execution_count": 204,
     "metadata": {},
     "output_type": "execute_result"
    }
   ],
   "source": [
    "clf = LinearSVC(random_state=0)\n",
    "clf.fit(X_train, Y_train)\n",
    "y_pred = clf.predict(X_test)\n",
    "accuracy_score(Y_test, y_pred)"
   ]
  },
  {
   "cell_type": "code",
   "execution_count": 205,
   "metadata": {},
   "outputs": [
    {
     "data": {
      "text/plain": [
       "(482, 2043)"
      ]
     },
     "execution_count": 205,
     "metadata": {},
     "output_type": "execute_result"
    }
   ],
   "source": [
    "X_test.shape"
   ]
  },
  {
   "cell_type": "code",
   "execution_count": 206,
   "metadata": {},
   "outputs": [
    {
     "data": {
      "text/plain": [
       "0.946058091286307"
      ]
     },
     "execution_count": 206,
     "metadata": {},
     "output_type": "execute_result"
    }
   ],
   "source": [
    "clf = GradientBoostingClassifier(n_estimators=100)\n",
    "clf.fit(X_train, Y_train)\n",
    "y_pred = clf.predict(X_test)\n",
    "accuracy_score(Y_test, y_pred)"
   ]
  },
  {
   "cell_type": "code",
   "execution_count": 207,
   "metadata": {},
   "outputs": [],
   "source": [
    "clf1 = LogisticRegression()\n",
    "clf2 = RandomForestClassifier(n_estimators=100, max_features=\"auto\",random_state=0)\n",
    "svc = LinearSVC(random_state=20)\n",
    "sclf = StackingClassifier(classifiers = [clf1, clf2], use_probas = True, meta_classifier = svc)\n"
   ]
  },
  {
   "cell_type": "code",
   "execution_count": 208,
   "metadata": {},
   "outputs": [
    {
     "name": "stdout",
     "output_type": "stream",
     "text": [
      "0.6336434444188547 0.0014052531156336645 Linear svc\n",
      "0.7489069297021689 0.00035658491569118267 Random Forest\n",
      "0.7515916681127537 0.001109913400266116 Stacking Classifier\n"
     ]
    }
   ],
   "source": [
    "for clf, label in zip([clf1, clf2, sclf],\n",
    "                     ['Linear svc',\n",
    "                     'Random Forest',\n",
    "                     'Stacking Classifier']):\n",
    "    scores = cross_val_score(clf, X_train, Y_train,\n",
    "                                            cv= 2, scoring = 'f1_macro')\n",
    "    print(scores.mean(), scores.std(), label)"
   ]
  },
  {
   "cell_type": "code",
   "execution_count": 209,
   "metadata": {},
   "outputs": [],
   "source": [
    "# transform the data\n",
    "def transform_data(dataFrame=None, countVecDescRemarks=None,OneHotEnctransType=None ):\n",
    "    def clean_data(text):\n",
    "        new_text = re.sub(r'[^\\w\\s]', '', str(text))\n",
    "        new_text = re.sub('\\s+',' ', str(new_text))\n",
    "        return new_text.strip().lower()\n",
    "\n",
    "    # process x\n",
    "    x = dataFrame[[\"Transaction_Type\", \"desc_remarks\"]]\n",
    "    x[\"Transaction_Type\"] = x[\"Transaction_Type\"].apply(clean_data)\n",
    "    x[\"desc_remarks\"] = x[\"desc_remarks\"].apply(clean_data)\n",
    "\n",
    "    # work on desc_remarks\n",
    "    descRemarks = x['desc_remarks']\n",
    "    descRemarksEncd = countVecDescRemarks.transform(descRemarks)\n",
    "\n",
    "    # work on Transaction_Type\n",
    "    transactionType = x['Transaction_Type'].to_numpy().reshape(-1, 1)\n",
    "    transactionTypeEncd = OneHotEnctransType.transform(transactionType)\n",
    "    return (descRemarksEncd, transactionTypeEncd), (countVecDescRemarks, OneHotEnctransType)\n"
   ]
  },
  {
   "cell_type": "code",
   "execution_count": 112,
   "metadata": {
    "tags": []
   },
   "outputs": [],
   "source": [
    "b = ['USSD from 07067821584   TO SKYE(POL)/NURUDEEN RABIU OLAWALE']\n",
    "b = pd.DataFrame(data = b)\n",
    "c = ['credit']\n",
    "c = pd.DataFrame(data = c)\n",
    "n = np.hstack((b, c))\n",
    "#n = n.toarray()\n",
    "n = pd.DataFrame(data = n)\n",
    "n.columns = ['desc_remarks', 'Transaction_Type']\n",
    "(descRemarksEncd, transactionTypeEncd), (countVecDescRemarks, OneHotEnctransType) = transform_data(dataFrame=n,countVecDescRemarks=countVecDescRemarks,OneHotEnctransType=OneHotEnctransType)\n",
    "descRemarksEncdArr = descRemarksEncd.toarray()\n",
    "transactionTypeEncdArr = transactionTypeEncd.toarray()\n",
    "xTest = np.hstack((descRemarksEncdArr, transactionTypeEncdArr))"
   ]
  },
  {
   "cell_type": "code",
   "execution_count": 210,
   "metadata": {},
   "outputs": [
    {
     "data": {
      "text/plain": [
       "DecisionTreeClassifier()"
      ]
     },
     "execution_count": 210,
     "metadata": {},
     "output_type": "execute_result"
    }
   ],
   "source": [
    "model = DecisionTreeClassifier()\n",
    "model.fit(X_train, Y_train)"
   ]
  },
  {
   "cell_type": "code",
   "execution_count": 211,
   "metadata": {},
   "outputs": [],
   "source": [
    "a = model.predict(xTest)"
   ]
  },
  {
   "cell_type": "code",
   "execution_count": 212,
   "metadata": {},
   "outputs": [
    {
     "data": {
      "text/plain": [
       "array(['Withdrawal'], dtype=object)"
      ]
     },
     "execution_count": 212,
     "metadata": {},
     "output_type": "execute_result"
    }
   ],
   "source": [
    "a\n",
    "encodeTarget.classes_[a]"
   ]
  },
  {
   "cell_type": "code",
   "execution_count": 114,
   "metadata": {},
   "outputs": [],
   "source": [
    "b = ['Airtime Purchase USSD-101CT0000000002247823856-234915951678']\n",
    "b = pd.DataFrame(data = b)\n",
    "c = ['debit']\n",
    "c = pd.DataFrame(data = c)\n",
    "n = np.hstack((b, c))\n",
    "#n = n.toarray()\n",
    "n = pd.DataFrame(data = n)\n",
    "n.columns = ['desc_remarks', 'Transaction_Type']\n",
    "(descRemarksEncd, transactionTypeEncd), (countVecDescRemarks, OneHotEnctransType) = transform_data(dataFrame=n,countVecDescRemarks=countVecDescRemarks,OneHotEnctransType=OneHotEnctransType)\n",
    "descRemarksEncdArr = descRemarksEncd.toarray()\n",
    "transactionTypeEncdArr = transactionTypeEncd.toarray()\n",
    "xTest = np.hstack((descRemarksEncdArr, transactionTypeEncdArr))"
   ]
  },
  {
   "cell_type": "code",
   "execution_count": 116,
   "metadata": {},
   "outputs": [
    {
     "data": {
      "text/plain": [
       "array(['Airtime/Data'], dtype=object)"
      ]
     },
     "execution_count": 116,
     "metadata": {},
     "output_type": "execute_result"
    }
   ],
   "source": [
    "a = model.predict(xTest)\n",
    "encodeTarget.classes_[a]"
   ]
  },
  {
   "cell_type": "code",
   "execution_count": 119,
   "metadata": {},
   "outputs": [],
   "source": [
    "b = ['khdvbjksjkbbkjnk']\n",
    "b = pd.DataFrame(data = b)\n",
    "c = ['credit']\n",
    "c = pd.DataFrame(data = c)\n",
    "n = np.hstack((b, c))\n",
    "#n = n.toarray()\n",
    "n = pd.DataFrame(data = n)\n",
    "n.columns = ['desc_remarks', 'Transaction_Type']\n",
    "(descRemarksEncd, transactionTypeEncd), (countVecDescRemarks, OneHotEnctransType) = transform_data(dataFrame=n,countVecDescRemarks=countVecDescRemarks,OneHotEnctransType=OneHotEnctransType)\n",
    "descRemarksEncdArr = descRemarksEncd.toarray()\n",
    "transactionTypeEncdArr = transactionTypeEncd.toarray()\n",
    "xTest = np.hstack((descRemarksEncdArr, transactionTypeEncdArr))"
   ]
  },
  {
   "cell_type": "code",
   "execution_count": 120,
   "metadata": {},
   "outputs": [
    {
     "data": {
      "text/plain": [
       "array(['Transfer Payments'], dtype=object)"
      ]
     },
     "execution_count": 120,
     "metadata": {},
     "output_type": "execute_result"
    }
   ],
   "source": [
    "a = model.predict(xTest)\n",
    "encodeTarget.classes_[a]"
   ]
  },
  {
   "cell_type": "code",
   "execution_count": 121,
   "metadata": {},
   "outputs": [],
   "source": [
    "a = model.predict_proba(xTest)"
   ]
  },
  {
   "cell_type": "code",
   "execution_count": 122,
   "metadata": {
    "scrolled": true
   },
   "outputs": [
    {
     "data": {
      "text/plain": [
       "array([[0., 0., 0., 0., 0., 0., 0., 1., 0., 0.]])"
      ]
     },
     "execution_count": 122,
     "metadata": {},
     "output_type": "execute_result"
    }
   ],
   "source": [
    "a"
   ]
  },
  {
   "cell_type": "code",
   "execution_count": 214,
   "metadata": {},
   "outputs": [],
   "source": [
    "b = ['Via USSD GTBank Transfer    from AMIDELE OLUWASEFUNMI MARY  BAMIDELE OLUWASEFUNMI MARY to BAMIDELE, I']\n",
    "b = pd.DataFrame(data = b)\n",
    "c = ['debit']\n",
    "c = pd.DataFrame(data = c)\n",
    "n = np.hstack((b, c))\n",
    "#n = n.toarray()\n",
    "n = pd.DataFrame(data = n)\n",
    "n.columns = ['desc_remarks', 'Transaction_Type']\n",
    "(descRemarksEncd, transactionTypeEncd), (countVecDescRemarks, OneHotEnctransType) = transform_data(dataFrame=n,countVecDescRemarks=countVecDescRemarks,OneHotEnctransType=OneHotEnctransType)\n",
    "descRemarksEncdArr = descRemarksEncd.toarray()\n",
    "transactionTypeEncdArr = transactionTypeEncd.toarray()\n",
    "xTest = np.hstack((descRemarksEncdArr, transactionTypeEncdArr))"
   ]
  },
  {
   "cell_type": "code",
   "execution_count": 215,
   "metadata": {},
   "outputs": [
    {
     "data": {
      "text/plain": [
       "array(['Transfers'], dtype=object)"
      ]
     },
     "execution_count": 215,
     "metadata": {},
     "output_type": "execute_result"
    }
   ],
   "source": [
    "a = model.predict(xTest)\n",
    "encodeTarget.classes_[a]"
   ]
  },
  {
   "cell_type": "code",
   "execution_count": 216,
   "metadata": {},
   "outputs": [
    {
     "data": {
      "text/plain": [
       "array([[0., 0., 0., 0., 0., 0., 0., 0., 1., 0.]])"
      ]
     },
     "execution_count": 216,
     "metadata": {},
     "output_type": "execute_result"
    }
   ],
   "source": [
    "a = model.predict_proba(xTest)\n",
    "a"
   ]
  },
  {
   "cell_type": "code",
   "execution_count": 217,
   "metadata": {},
   "outputs": [],
   "source": [
    "b = ['ertyuipkjhgfdsaxcvm']\n",
    "b = pd.DataFrame(data = b)\n",
    "c = ['debit']\n",
    "c = pd.DataFrame(data = c)\n",
    "n = np.hstack((b, c))\n",
    "#n = n.toarray()\n",
    "n = pd.DataFrame(data = n)\n",
    "n.columns = ['desc_remarks', 'Transaction_Type']\n",
    "(descRemarksEncd, transactionTypeEncd), (countVecDescRemarks, OneHotEnctransType) = transform_data(dataFrame=n,countVecDescRemarks=countVecDescRemarks,OneHotEnctransType=OneHotEnctransType)\n",
    "descRemarksEncdArr = descRemarksEncd.toarray()\n",
    "transactionTypeEncdArr = transactionTypeEncd.toarray()\n",
    "xTest = np.hstack((descRemarksEncdArr, transactionTypeEncdArr))"
   ]
  },
  {
   "cell_type": "code",
   "execution_count": 218,
   "metadata": {},
   "outputs": [
    {
     "data": {
      "text/plain": [
       "array(['Withdrawal'], dtype=object)"
      ]
     },
     "execution_count": 218,
     "metadata": {},
     "output_type": "execute_result"
    }
   ],
   "source": [
    "a = model.predict(xTest)\n",
    "encodeTarget.classes_[a]"
   ]
  },
  {
   "cell_type": "code",
   "execution_count": 219,
   "metadata": {},
   "outputs": [
    {
     "data": {
      "text/plain": [
       "array([[0.        , 0.06716418, 0.        , 0.        , 0.        ,\n",
       "        0.        , 0.        , 0.        , 0.        , 0.93283582]])"
      ]
     },
     "execution_count": 219,
     "metadata": {},
     "output_type": "execute_result"
    }
   ],
   "source": [
    "a = model.predict_proba(xTest)\n",
    "a"
   ]
  },
  {
   "cell_type": "code",
   "execution_count": 220,
   "metadata": {},
   "outputs": [],
   "source": [
    "b = ['NIBSS Instant Payment Outward 000013201226162945000310588550 Swlf TO FBN/SALIU MOSHOOD KOLAWOLE /26.875/REF:00001320122616294500']\n",
    "b = pd.DataFrame(data = b)\n",
    "c = ['credit']\n",
    "c = pd.DataFrame(data = c)\n",
    "n = np.hstack((b, c))\n",
    "#n = n.toarray()\n",
    "n = pd.DataFrame(data = n)\n",
    "n.columns = ['desc_remarks', 'Transaction_Type']\n",
    "(descRemarksEncd, transactionTypeEncd), (countVecDescRemarks, OneHotEnctransType) = transform_data(dataFrame=n,countVecDescRemarks=countVecDescRemarks,OneHotEnctransType=OneHotEnctransType)\n",
    "descRemarksEncdArr = descRemarksEncd.toarray()\n",
    "transactionTypeEncdArr = transactionTypeEncd.toarray()\n",
    "xTest = np.hstack((descRemarksEncdArr, transactionTypeEncdArr))"
   ]
  },
  {
   "cell_type": "code",
   "execution_count": 221,
   "metadata": {},
   "outputs": [
    {
     "data": {
      "text/plain": [
       "array(['Transfer Payments'], dtype=object)"
      ]
     },
     "execution_count": 221,
     "metadata": {},
     "output_type": "execute_result"
    }
   ],
   "source": [
    "a = model.predict(xTest)\n",
    "encodeTarget.classes_[a]"
   ]
  },
  {
   "cell_type": "code",
   "execution_count": 224,
   "metadata": {},
   "outputs": [],
   "source": [
    "b = ['RVSL*POS/WEB*06-JAN-21*0820993810*00559533']\n",
    "b = pd.DataFrame(data = b)\n",
    "c = ['credit']\n",
    "c = pd.DataFrame(data = c)\n",
    "n = np.hstack((b, c))\n",
    "#n = n.toarray()\n",
    "n = pd.DataFrame(data = n)\n",
    "n.columns = ['desc_remarks', 'Transaction_Type']\n",
    "(descRemarksEncd, transactionTypeEncd), (countVecDescRemarks, OneHotEnctransType) = transform_data(dataFrame=n,countVecDescRemarks=countVecDescRemarks,OneHotEnctransType=OneHotEnctransType)\n",
    "descRemarksEncdArr = descRemarksEncd.toarray()\n",
    "transactionTypeEncdArr = transactionTypeEncd.toarray()\n",
    "xTest = np.hstack((descRemarksEncdArr, transactionTypeEncdArr))"
   ]
  },
  {
   "cell_type": "code",
   "execution_count": 225,
   "metadata": {},
   "outputs": [
    {
     "data": {
      "text/plain": [
       "array(['Transfer Payments'], dtype=object)"
      ]
     },
     "execution_count": 225,
     "metadata": {},
     "output_type": "execute_result"
    }
   ],
   "source": [
    "a = model.predict(xTest)\n",
    "encodeTarget.classes_[a]"
   ]
  },
  {
   "cell_type": "code",
   "execution_count": 226,
   "metadata": {},
   "outputs": [],
   "source": [
    "b = ['STAMP DUTY CHARGE 11122020 STAMP DUTY CHARGE - 11/12/2020']\n",
    "b = pd.DataFrame(data = b)\n",
    "c = ['debit']\n",
    "c = pd.DataFrame(data = c)\n",
    "n = np.hstack((b, c))\n",
    "#n = n.toarray()\n",
    "n = pd.DataFrame(data = n)\n",
    "n.columns = ['desc_remarks', 'Transaction_Type']\n",
    "(descRemarksEncd, transactionTypeEncd), (countVecDescRemarks, OneHotEnctransType) = transform_data(dataFrame=n,countVecDescRemarks=countVecDescRemarks,OneHotEnctransType=OneHotEnctransType)\n",
    "descRemarksEncdArr = descRemarksEncd.toarray()\n",
    "transactionTypeEncdArr = transactionTypeEncd.toarray()\n",
    "xTest = np.hstack((descRemarksEncdArr, transactionTypeEncdArr))"
   ]
  },
  {
   "cell_type": "code",
   "execution_count": 227,
   "metadata": {},
   "outputs": [
    {
     "data": {
      "text/plain": [
       "array(['Commissions'], dtype=object)"
      ]
     },
     "execution_count": 227,
     "metadata": {},
     "output_type": "execute_result"
    }
   ],
   "source": [
    "a = model.predict(xTest)\n",
    "encodeTarget.classes_[a]"
   ]
  },
  {
   "cell_type": "code",
   "execution_count": 228,
   "metadata": {},
   "outputs": [],
   "source": [
    "b = ['TRANSFER BETWEEN CUSTOMERS MBANKING - REF:144821621110650780006160736988 ANY Account Transfer from SALIU, MOROHUNMUBO to']\n",
    "b = pd.DataFrame(data = b)\n",
    "c = ['debit']\n",
    "c = pd.DataFrame(data = c)\n",
    "n = np.hstack((b, c))\n",
    "#n = n.toarray()\n",
    "n = pd.DataFrame(data = n)\n",
    "n.columns = ['desc_remarks', 'Transaction_Type']\n",
    "(descRemarksEncd, transactionTypeEncd), (countVecDescRemarks, OneHotEnctransType) = transform_data(dataFrame=n,countVecDescRemarks=countVecDescRemarks,OneHotEnctransType=OneHotEnctransType)\n",
    "descRemarksEncdArr = descRemarksEncd.toarray()\n",
    "transactionTypeEncdArr = transactionTypeEncd.toarray()\n",
    "xTest = np.hstack((descRemarksEncdArr, transactionTypeEncdArr))"
   ]
  },
  {
   "cell_type": "code",
   "execution_count": 229,
   "metadata": {},
   "outputs": [
    {
     "data": {
      "text/plain": [
       "array(['Transfers'], dtype=object)"
      ]
     },
     "execution_count": 229,
     "metadata": {},
     "output_type": "execute_result"
    }
   ],
   "source": [
    "a = model.predict(xTest)\n",
    "encodeTarget.classes_[a]"
   ]
  },
  {
   "cell_type": "code",
   "execution_count": 230,
   "metadata": {},
   "outputs": [],
   "source": [
    "b = ['TRANSFER BETWEEN CUSTOMERS 090267201114012911626477424013|SENT FROM KUDABANK.COM|090267201114012911626477424013||SALIU, KOLAWOLE']\n",
    "b = pd.DataFrame(data = b)\n",
    "c = ['debit']\n",
    "c = pd.DataFrame(data = c)\n",
    "n = np.hstack((b, c))\n",
    "#n = n.toarray()\n",
    "n = pd.DataFrame(data = n)\n",
    "n.columns = ['desc_remarks', 'Transaction_Type']\n",
    "(descRemarksEncd, transactionTypeEncd), (countVecDescRemarks, OneHotEnctransType) = transform_data(dataFrame=n,countVecDescRemarks=countVecDescRemarks,OneHotEnctransType=OneHotEnctransType)\n",
    "descRemarksEncdArr = descRemarksEncd.toarray()\n",
    "transactionTypeEncdArr = transactionTypeEncd.toarray()\n",
    "xTest = np.hstack((descRemarksEncdArr, transactionTypeEncdArr))"
   ]
  },
  {
   "cell_type": "code",
   "execution_count": 231,
   "metadata": {},
   "outputs": [
    {
     "data": {
      "text/plain": [
       "array(['Transfers'], dtype=object)"
      ]
     },
     "execution_count": 231,
     "metadata": {},
     "output_type": "execute_result"
    }
   ],
   "source": [
    "a = model.predict(xTest)\n",
    "encodeTarget.classes_[a]"
   ]
  },
  {
   "cell_type": "code",
   "execution_count": null,
   "metadata": {},
   "outputs": [],
   "source": []
  }
 ],
 "metadata": {
  "kernelspec": {
   "display_name": "Python 3",
   "language": "python",
   "name": "python3"
  },
  "language_info": {
   "codemirror_mode": {
    "name": "ipython",
    "version": 3
   },
   "file_extension": ".py",
   "mimetype": "text/x-python",
   "name": "python",
   "nbconvert_exporter": "python",
   "pygments_lexer": "ipython3",
   "version": "3.7.4"
  }
 },
 "nbformat": 4,
 "nbformat_minor": 2
}
